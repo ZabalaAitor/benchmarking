{
 "cells": [
  {
   "cell_type": "markdown",
   "metadata": {},
   "source": [
    "# Benchmarking of extrachromosomal circular DNA (eccDNA) and circular RNA detection software"
   ]
  },
  {
   "cell_type": "markdown",
   "metadata": {},
   "source": [
    "In this study, we performed a comprehensive evaluation of 5 extrachromosomal circular DNA (eccDNA) detection software (Circle-Map, CIRCexplorer2, CircleFinder, ecc_finder-bwa, and ecc_finder-minimap2) and 5 circualr RNA (circRNA) detection software (CIRCexplorer2, circRNA_finder, CIRIquant, find_circ, and segemehl). We evaluated their performance on both in silico and biological data, and we propose a new protocol based on a Rosette detection that combines more than two algorithms to enhance the detection of eccDNAs and circRNAs."
   ]
  },
  {
   "cell_type": "markdown",
   "metadata": {},
   "source": [
    "## Library and function imports"
   ]
  },
  {
   "cell_type": "code",
   "execution_count": null,
   "metadata": {},
   "outputs": [],
   "source": [
    "import os\n",
    "import matplotlib.pyplot as plt\n",
    "import seaborn as sns\n",
    "import pandas as pd\n",
    "import numpy as np\n",
    "from collections import defaultdict\n",
    "import re\n",
    "from math import isclose"
   ]
  },
  {
   "cell_type": "code",
   "execution_count": null,
   "metadata": {},
   "outputs": [],
   "source": [
    "from functions.load_bed_file import load_bed_file\n",
    "from functions.compare_circular_data import analyze_circular_data\n",
    "from functions.metrics import plot_circular_detection\n",
    "from functions.save_metrics import process_and_save_metrics\n",
    "from functions.coordinates_precision import plot_coordinates_precision\n",
    "from functions.lengths import plot_length_distributions, distribution_comparison_ks_test\n",
    "from functions.repeat_elements import annotate_repeat_elements, process_repeat_elements, calculate_repeat_element_metrics, plot_stats_repeat_elements\n",
    "from functions.genomic_elements import annotate_genomic_elements, annotate_bed_files_genomic_elements, process_genomic_elements, calculate_genomic_element_metrics, plot_stats_genomic_elements\n",
    "from functions.combinations import process_eccDNA_filtering, process_circRNA_filtering, plot_combinations, compare_combinations, analyze_and_save_circles, merge_files\n",
    "from functions.ratio import process_circle_matrix, circle_diff, circle_diff_real, diff_cj_combinations, plot_diffCJ_scatterplot, process_and_plot_ratios\n",
    "from functions.matrix import matrix_real, create_circle_presence_matrix\n",
    "from functions.upsetR import upset_plot\n",
    "from functions.validation import matrix_fp\n"
   ]
  },
  {
   "cell_type": "markdown",
   "metadata": {},
   "source": [
    "## 1. in silico"
   ]
  },
  {
   "cell_type": "markdown",
   "metadata": {
    "vscode": {
     "languageId": "plaintext"
    }
   },
   "source": [
    "We created 1,000 circles with the following characteristics:\n",
    "\n",
    "- eccDNA was created from all the genome and circRNA from the transcript region.\n",
    "- Length: [175, 10,000]\n",
    "- Lognormal distribution (mean = 1,000, sd = 1)\n",
    "- Biological mutation ratio: 0.01 (Kimura model)\n",
    "- Sequencing error rate: 0.001 (random)\n",
    "\n",
    "Additionally, 1,000 linear fragments with the same characteristics as the circular molecule (except for a minimum length of 501) from randomly selected genomic regions were introduced as false positive molecules."
   ]
  },
  {
   "cell_type": "markdown",
   "metadata": {},
   "source": [
    "### Unfilter"
   ]
  },
  {
   "cell_type": "code",
   "execution_count": null,
   "metadata": {},
   "outputs": [],
   "source": [
    "# Define paths and parameters\n",
    "eccDNA_bed = 'data/insilico/eccDNA/eccDNA.bed'\n",
    "eccDNA_dir = 'data/insilico/eccDNA/unfilter'\n",
    "eccDNA_output = 'results/eccDNA/insilico/unfilter/'\n",
    "eccDNA_tools = ['CIRCexplorer2', 'Circle-Map', 'Circle_finder', 'ecc_finder-bwa', 'ecc_finder-minimap2']\n",
    "\n",
    "circRNA_bed = 'data/insilico/circRNA/circRNA.bed'\n",
    "circRNA_dir = 'data/insilico/circRNA/unfilter'\n",
    "circRNA_output = 'results/circRNA/insilico/unfilter/'\n",
    "circRNA_tools = ['CIRCexplorer2', 'circRNA_finder', 'CIRIquant', 'find_circ', 'segemehl']\n",
    "\n",
    "coverages = [5, 7, 10, 15, 20, 30, 50, 70, 100]"
   ]
  },
  {
   "cell_type": "code",
   "execution_count": null,
   "metadata": {},
   "outputs": [],
   "source": [
    "analyze_circular_data(eccDNA_dir, eccDNA_bed, eccDNA_output, eccDNA_tools, coverages)"
   ]
  },
  {
   "cell_type": "code",
   "execution_count": null,
   "metadata": {},
   "outputs": [],
   "source": [
    "eccDNA_dir = 'results/eccDNA/insilico/unfilter/statistics'\n",
    "eccDNA_output = f'{eccDNA_dir}/graphs/'\n",
    "\n",
    "data_files = [\n",
    "    'truepositives.csv',\n",
    "    'falsepositives.csv',\n",
    "    'falsenegatives.csv',\n",
    "    'fscore.csv',\n",
    "    'recall.csv',\n",
    "    'precision.csv'\n",
    "]\n",
    "\n",
    "stats = ['True Positives', 'False Positives', 'False Negatives', 'F-score', 'Recall', 'Precision']\n",
    "\n",
    "for data_file, name in zip(data_files, stats):\n",
    "    data_path = f'{eccDNA_dir}/{data_file}'\n",
    "    plot_circular_detection(data_path, name, eccDNA_output, 'eccDNA')"
   ]
  },
  {
   "cell_type": "code",
   "execution_count": null,
   "metadata": {},
   "outputs": [],
   "source": [
    "analyze_circular_data(circRNA_dir, circRNA_bed, circRNA_output, circRNA_tools, coverages)"
   ]
  },
  {
   "cell_type": "code",
   "execution_count": null,
   "metadata": {},
   "outputs": [],
   "source": [
    "circRNA_dir = 'results/circRNA/insilico/unfilter/statistics'\n",
    "circRNA_output = f'{circRNA_dir}/graphs/'\n",
    "\n",
    "for data_file, name in zip(data_files, stats):\n",
    "    data_path = f'{circRNA_dir}/{data_file}'\n",
    "    plot_circular_detection(data_path, name, circRNA_output, 'circRNA')"
   ]
  },
  {
   "cell_type": "markdown",
   "metadata": {},
   "source": [
    "## Filter-split"
   ]
  },
  {
   "cell_type": "code",
   "execution_count": null,
   "metadata": {},
   "outputs": [],
   "source": [
    "# Define paths and parameters\n",
    "eccDNA_dir = 'data/insilico/eccDNA/filter-split'\n",
    "eccDNA_output = 'results/eccDNA/insilico/filter-split'\n",
    "\n",
    "circRNA_dir = 'data/insilico/circRNA/filter-split'\n",
    "circRNA_output = 'results/circRNA/insilico/filter-split'"
   ]
  },
  {
   "cell_type": "code",
   "execution_count": null,
   "metadata": {},
   "outputs": [],
   "source": [
    "analyze_circular_data(eccDNA_dir, eccDNA_bed, eccDNA_output, eccDNA_tools, coverages)"
   ]
  },
  {
   "cell_type": "code",
   "execution_count": null,
   "metadata": {},
   "outputs": [],
   "source": [
    "eccDNA_dir = 'results/eccDNA/insilico/filter-split/statistics'\n",
    "eccDNA_output = f'{eccDNA_dir}/graphs/'\n",
    "\n",
    "for data_file, name in zip(data_files, stats):\n",
    "    data_path = f'{eccDNA_dir}/{data_file}'\n",
    "    plot_circular_detection(data_path, name, eccDNA_output, 'eccDNA')"
   ]
  },
  {
   "cell_type": "code",
   "execution_count": null,
   "metadata": {},
   "outputs": [],
   "source": [
    "analyze_circular_data(circRNA_dir, circRNA_bed, circRNA_output, circRNA_tools, coverages)"
   ]
  },
  {
   "cell_type": "code",
   "execution_count": null,
   "metadata": {},
   "outputs": [],
   "source": [
    "circRNA_dir = 'results/circRNA/insilico/filter-split/statistics'\n",
    "circRNA_output = f'{circRNA_dir}/graphs/'\n",
    "\n",
    "for data_file, name in zip(data_files, stats):\n",
    "    data_path = f'{circRNA_dir}/{data_file}'\n",
    "    plot_circular_detection(data_path, name, circRNA_output, 'circRNA')"
   ]
  },
  {
   "cell_type": "markdown",
   "metadata": {},
   "source": [
    "## Filter-duplicates"
   ]
  },
  {
   "cell_type": "code",
   "execution_count": null,
   "metadata": {},
   "outputs": [],
   "source": [
    "# Define paths and parameters\n",
    "eccDNA_dir = 'data/insilico/eccDNA/filter-duplicates'\n",
    "eccDNA_output = 'results/eccDNA/insilico/filter-duplicates'\n",
    "\n",
    "circRNA_dir = 'data/insilico/circRNA/filter-duplicates'\n",
    "circRNA_output = 'results/circRNA/insilico/filter-duplicates'"
   ]
  },
  {
   "cell_type": "code",
   "execution_count": null,
   "metadata": {},
   "outputs": [],
   "source": [
    "analyze_circular_data(eccDNA_dir, eccDNA_bed, eccDNA_output, eccDNA_tools, coverages)"
   ]
  },
  {
   "cell_type": "code",
   "execution_count": null,
   "metadata": {},
   "outputs": [],
   "source": [
    "eccDNA_dir = 'results/eccDNA/insilico/filter-duplicates/statistics'\n",
    "eccDNA_output = f'{eccDNA_dir}/graphs/'\n",
    "\n",
    "for data_file, name in zip(data_files, stats):\n",
    "    data_path = f'{eccDNA_dir}/{data_file}'\n",
    "    plot_circular_detection(data_path, name, eccDNA_output, 'eccDNA')"
   ]
  },
  {
   "cell_type": "code",
   "execution_count": null,
   "metadata": {},
   "outputs": [],
   "source": [
    "analyze_circular_data(circRNA_dir, circRNA_bed, circRNA_output, circRNA_tools, coverages)"
   ]
  },
  {
   "cell_type": "code",
   "execution_count": null,
   "metadata": {},
   "outputs": [],
   "source": [
    "circRNA_dir = 'results/circRNA/insilico/filter-duplicates/statistics'\n",
    "circRNA_output = f'{circRNA_dir}/graphs/'\n",
    "\n",
    "for data_file, name in zip(data_files, stats):\n",
    "    data_path = f'{circRNA_dir}/{data_file}'\n",
    "    plot_circular_detection(data_path, name, circRNA_output, 'circRNA')"
   ]
  },
  {
   "cell_type": "markdown",
   "metadata": {},
   "source": [
    "### Filter"
   ]
  },
  {
   "cell_type": "code",
   "execution_count": null,
   "metadata": {},
   "outputs": [],
   "source": [
    "# Define paths and parameters\n",
    "eccDNA_dir = 'data/insilico/eccDNA/filter'\n",
    "eccDNA_output = 'results/eccDNA/insilico/filter'\n",
    "\n",
    "circRNA_dir = 'data/insilico/circRNA/filter'\n",
    "circRNA_output = 'results/circRNA/insilico/filter'"
   ]
  },
  {
   "cell_type": "code",
   "execution_count": null,
   "metadata": {},
   "outputs": [],
   "source": [
    "analyze_circular_data(eccDNA_dir, eccDNA_bed, eccDNA_output, eccDNA_tools, coverages)"
   ]
  },
  {
   "cell_type": "code",
   "execution_count": null,
   "metadata": {},
   "outputs": [],
   "source": [
    "eccDNA_dir = 'results/eccDNA/insilico/filter/statistics'\n",
    "eccDNA_output = f'{eccDNA_dir}/graphs/'\n",
    "\n",
    "data_files = [\n",
    "    'truepositives.csv',\n",
    "    'falsepositives.csv',\n",
    "    'falsenegatives.csv',\n",
    "    'fscore.csv',\n",
    "    'recall.csv',\n",
    "    'precision.csv'\n",
    "]\n",
    "\n",
    "stats = ['True Positives', 'False Positives', 'False Negatives', 'F-score', 'Recall', 'Precision']\n",
    "\n",
    "for data_file, name in zip(data_files, stats):\n",
    "    data_path = f'{eccDNA_dir}/{data_file}'\n",
    "    plot_circular_detection(data_path, name, eccDNA_output, 'eccDNA')"
   ]
  },
  {
   "cell_type": "code",
   "execution_count": null,
   "metadata": {},
   "outputs": [],
   "source": [
    "analyze_circular_data(circRNA_dir, circRNA_bed, circRNA_output, circRNA_tools, coverages)"
   ]
  },
  {
   "cell_type": "code",
   "execution_count": null,
   "metadata": {},
   "outputs": [],
   "source": [
    "circRNA_dir = 'results/circRNA/insilico/filter/statistics'\n",
    "circRNA_output = f'{circRNA_dir}/graphs/'\n",
    "\n",
    "for data_file, name in zip(data_files, stats):\n",
    "    data_path = f'{circRNA_dir}/{data_file}'\n",
    "    plot_circular_detection(data_path, name, circRNA_output, 'circRNA')"
   ]
  },
  {
   "cell_type": "markdown",
   "metadata": {},
   "source": [
    "### Save metrics"
   ]
  },
  {
   "cell_type": "code",
   "execution_count": null,
   "metadata": {},
   "outputs": [],
   "source": [
    "eccDNA_base = \"data/insilico/eccDNA\"\n",
    "filtering_methods = [\"unfilter\", \"filter-split\", \"filter-duplicates\", \"filter\"]\n",
    "\n",
    "data = []\n",
    "\n",
    "for tool in eccDNA_tools:\n",
    "    for cov in coverages:\n",
    "        row_counts = {\"Tool\": tool, \"Coverage\": cov}\n",
    "        for filtering in filtering_methods:\n",
    "            bed_file = os.path.join(eccDNA_base, filtering, tool, f\"cov{cov}_{tool}.bed\")\n",
    "            if os.path.exists(bed_file):\n",
    "                with open(bed_file, \"r\") as f:\n",
    "                    row_count = sum(1 for line in f)\n",
    "            else:\n",
    "                row_count = 0\n",
    "            row_counts[filtering.capitalize()] = row_count\n",
    "        data.append(row_counts)\n",
    "\n",
    "df = pd.DataFrame(data)\n",
    "os.makedirs(\"results/eccDNA/insilico/filter/statistics\", exist_ok=True)\n",
    "df.to_csv(\"results/eccDNA/insilico/eccDNA_bed_counts.csv\", index=False)"
   ]
  },
  {
   "cell_type": "code",
   "execution_count": null,
   "metadata": {},
   "outputs": [],
   "source": [
    "circRNA_base = \"data/insilico/circRNA\"\n",
    "\n",
    "data = []\n",
    "for tool in eccDNA_tools:\n",
    "    for cov in coverages:\n",
    "        row_counts = {\"Tool\": tool, \"Coverage\": cov}\n",
    "        for filtering in filtering_methods:\n",
    "            bed_file = os.path.join(circRNA_base, filtering, tool, f\"cov{cov}_{tool}.bed\")\n",
    "            if os.path.exists(bed_file):\n",
    "                with open(bed_file, \"r\") as f:\n",
    "                    row_count = sum(1 for line in f)\n",
    "            else:\n",
    "                row_count = 0\n",
    "            row_counts[filtering.capitalize()] = row_count\n",
    "        data.append(row_counts)\n",
    "\n",
    "df = pd.DataFrame(data)\n",
    "df.to_csv(\"results/circRNA/insilico/circRNA_bed_counts.csv\", index=False)"
   ]
  },
  {
   "cell_type": "code",
   "execution_count": null,
   "metadata": {},
   "outputs": [],
   "source": [
    "eccDNA_bed = \"data/insilico/eccDNA/\"\n",
    "eccDNA_dir = \"results/eccDNA/insilico\"\n",
    "eccDNA_output='results/eccDNA/insilico/analysis_results.xlsx'\n",
    "\n",
    "process_and_save_metrics(eccDNA_bed, eccDNA_dir, eccDNA_tools, coverages, filtering_methods, eccDNA_output)"
   ]
  },
  {
   "cell_type": "code",
   "execution_count": null,
   "metadata": {},
   "outputs": [],
   "source": [
    "circRNA_bed = \"data/insilico/circRNA/\"\n",
    "circRNA_dir = \"results/circRNA/insilico\"\n",
    "circRNA_output='results/circRNA/insilico/analysis_results.xlsx'\n",
    "\n",
    "process_and_save_metrics(circRNA_bed, circRNA_dir, circRNA_tools, coverages, filtering_methods, circRNA_output)"
   ]
  },
  {
   "cell_type": "markdown",
   "metadata": {},
   "source": [
    "### Coordinates precision"
   ]
  },
  {
   "cell_type": "code",
   "execution_count": null,
   "metadata": {},
   "outputs": [],
   "source": [
    "# Define paths and parameters\n",
    "eccDNA_bed = 'data/insilico/eccDNA/eccDNA.bed'\n",
    "eccDNA_dir = 'data/insilico/eccDNA/filter'\n",
    "eccDNA_output = 'results/eccDNA/insilico/filter/coordinates_precision'\n",
    "\n",
    "circRNA_bed = 'data/insilico/circRNA/circRNA.bed'\n",
    "circRNA_dir = 'data/insilico/circRNA/filter'\n",
    "circRNA_output = 'results/circRNA/insilico/filter/coordinates_precision'"
   ]
  },
  {
   "cell_type": "code",
   "execution_count": null,
   "metadata": {},
   "outputs": [],
   "source": [
    "plot_coordinates_precision(eccDNA_tools, coverages, eccDNA_bed, eccDNA_dir, eccDNA_output, circle_type='eccDNA')"
   ]
  },
  {
   "cell_type": "code",
   "execution_count": null,
   "metadata": {},
   "outputs": [],
   "source": [
    "plot_coordinates_precision(circRNA_tools, coverages, circRNA_bed, circRNA_dir, circRNA_output, circle_type = 'circRNA')"
   ]
  },
  {
   "cell_type": "markdown",
   "metadata": {},
   "source": [
    "### Length distributions"
   ]
  },
  {
   "cell_type": "code",
   "execution_count": null,
   "metadata": {},
   "outputs": [],
   "source": [
    "eccDNA_output = 'results/eccDNA/insilico/filter/length_distributions'\n",
    "plot_length_distributions(eccDNA_bed, eccDNA_dir, eccDNA_tools, eccDNA_output, circle_type='eccDNA')"
   ]
  },
  {
   "cell_type": "code",
   "execution_count": null,
   "metadata": {},
   "outputs": [],
   "source": [
    "distribution_comparison_ks_test(eccDNA_bed, eccDNA_dir, eccDNA_tools, eccDNA_output, circle_type='eccDNA')"
   ]
  },
  {
   "cell_type": "code",
   "execution_count": null,
   "metadata": {},
   "outputs": [],
   "source": [
    "circRNA_output = 'results/circRNA/insilico/filter/length_distributions'\n",
    "plot_length_distributions(circRNA_bed, circRNA_dir, circRNA_tools, circRNA_output, circle_type='circRNA', min_length=240, max_length=480)"
   ]
  },
  {
   "cell_type": "code",
   "execution_count": null,
   "metadata": {},
   "outputs": [],
   "source": [
    "distribution_comparison_ks_test(circRNA_bed, circRNA_dir, circRNA_tools, circRNA_output, circle_type='circRNA')"
   ]
  },
  {
   "cell_type": "markdown",
   "metadata": {},
   "source": [
    "## Repeat Elements"
   ]
  },
  {
   "cell_type": "code",
   "execution_count": null,
   "metadata": {},
   "outputs": [],
   "source": [
    "# Define paths and parameters\n",
    "repeats_file = 'repeatmasker/data/repeat_elements_hg38.txt'\n",
    "eccDNA_base = \"results/eccDNA/insilico/filter\"\n",
    "eccDNA_output = f'{eccDNA_base}/repeat_elements/'\n",
    "coverage = 'cov30'\n",
    "\n",
    "# Generate true positive, false negative, and false positive paths\n",
    "bed_files_true = [eccDNA_bed] + [f'{eccDNA_base}/truepositives/{tool}/{coverage}_{tool}.bed' for tool in eccDNA_tools]\n",
    "bed_files_false_neg = [eccDNA_bed] + [f'{eccDNA_base}/falsenegatives/{tool}/{coverage}_{tool}.bed' for tool in eccDNA_tools]\n",
    "bed_files_false_pos = [eccDNA_bed] + [f'{eccDNA_base}/falsepositives/{tool}/{coverage}_{tool}.bed' for tool in eccDNA_tools]\n",
    "\n",
    "# Annotate BED files for true positives, false negatives, and false positives\n",
    "annotate_repeat_elements(repeats_file, bed_files_true, eccDNA_output, eccDNA_tools, true_or_false='truepositives')\n",
    "annotate_repeat_elements(repeats_file, bed_files_false_neg, eccDNA_output, eccDNA_tools, true_or_false='falsenegatives')\n",
    "annotate_repeat_elements(repeats_file, bed_files_false_pos, eccDNA_output, eccDNA_tools, true_or_false='falsepositives')"
   ]
  },
  {
   "cell_type": "code",
   "execution_count": null,
   "metadata": {},
   "outputs": [],
   "source": [
    "# Define tools + reference\n",
    "eccDNA_all = ['eccDNA'] + eccDNA_tools\n",
    "\n",
    "# Define categories and tools\n",
    "categories = ['truepositives', 'falsenegatives', 'falsepositives']\n",
    "\n",
    "# Process each category\n",
    "for category in categories:\n",
    "    # Define basename for each category\n",
    "    if category == 'truepositives':\n",
    "        basename = 'TP'\n",
    "    elif category == 'falsenegatives':\n",
    "        basename = 'FN'\n",
    "    elif category == 'falsepositives':\n",
    "        basename = 'FP'\n",
    "        \n",
    "    # List of annotated BED files for the current category\n",
    "    eccDNA_annotated_files = [\n",
    "        f'{eccDNA_output}/{category}/eccDNA_repeat_elements_{basename}.bed'\n",
    "    ] + [\n",
    "        f'{eccDNA_output}/{category}/{tool}_repeat_elements_{basename}.bed' for tool in eccDNA_tools\n",
    "    ]\n",
    "\n",
    "    # Output CSV file (use a separate variable for the output file)\n",
    "    eccDNA_csv = f'{eccDNA_output}/repeat_elements_counts_{basename}.csv'\n",
    "\n",
    "    # Process the annotated BED files and create the CSV\n",
    "    process_repeat_elements(eccDNA_annotated_files, eccDNA_all, eccDNA_csv)\n"
   ]
  },
  {
   "cell_type": "code",
   "execution_count": null,
   "metadata": {},
   "outputs": [],
   "source": [
    "eccDNA_tp_file = f'{eccDNA_output}/repeat_elements_counts_TP.csv'\n",
    "eccDNA_fn_file = f'{eccDNA_output}/repeat_elements_counts_FN.csv'\n",
    "eccDNA_fp_file = f'{eccDNA_output}/repeat_elements_counts_FP.csv'\n",
    "\n",
    "calculate_repeat_element_metrics(eccDNA_tp_file, eccDNA_fn_file, eccDNA_fp_file, eccDNA_output, eccDNA_all)"
   ]
  },
  {
   "cell_type": "code",
   "execution_count": null,
   "metadata": {},
   "outputs": [],
   "source": [
    "# List of statistics to process\n",
    "stats = ['precision', 'recall', 'fscore']\n",
    "\n",
    "# Loop through each stat, generate file path, and plot metrics\n",
    "for stat in stats:\n",
    "    stat_file = f'{eccDNA_output}/repeat_elements_{stat}.csv'\n",
    "    plot_stats_repeat_elements(stat_file, stat, eccDNA_output)"
   ]
  },
  {
   "cell_type": "code",
   "execution_count": null,
   "metadata": {},
   "outputs": [],
   "source": [
    "# Define paths and parameters\n",
    "circRNA_base = \"results/circRNA/insilico/filter\"\n",
    "circRNA_output = f'{circRNA_base}/repeat_elements'\n",
    "\n",
    "# Generate true positive, false negative, and false positive paths\n",
    "bed_files_true = [circRNA_bed] + [f'{circRNA_base}/truepositives/{tool}/{coverage}_{tool}.bed' for tool in circRNA_tools]\n",
    "bed_files_false_neg = [circRNA_bed] + [f'{circRNA_base}/falsenegatives/{tool}/{coverage}_{tool}.bed' for tool in circRNA_tools]\n",
    "bed_files_false_pos = [circRNA_bed] + [f'{circRNA_base}/falsepositives/{tool}/{coverage}_{tool}.bed' for tool in circRNA_tools]\n",
    "\n",
    "# Annotate BED files for true positives, false negatives, and false positives\n",
    "annotate_repeat_elements(repeats_file, bed_files_true, circRNA_output, circRNA_tools, true_or_false='truepositives')\n",
    "annotate_repeat_elements(repeats_file, bed_files_false_neg, circRNA_output, circRNA_tools, true_or_false='falsenegatives')\n",
    "annotate_repeat_elements(repeats_file, bed_files_false_pos, circRNA_output, circRNA_tools, true_or_false='falsepositives')"
   ]
  },
  {
   "cell_type": "code",
   "execution_count": null,
   "metadata": {},
   "outputs": [],
   "source": [
    "# Define tools + reference\n",
    "circRNA_all = ['circRNA'] + circRNA_tools\n",
    "\n",
    "# Process each category\n",
    "for category in categories:\n",
    "    # Define basename for each category\n",
    "    if category == 'truepositives':\n",
    "        basename = 'TP'\n",
    "    elif category == 'falsenegatives':\n",
    "        basename = 'FN'\n",
    "    elif category == 'falsepositives':\n",
    "        basename = 'FP'\n",
    "        \n",
    "    # List of annotated BED files for the current category\n",
    "    circRNA_annotated_files = [\n",
    "        f'{circRNA_output}/{category}/circRNA_repeat_elements_{basename}.bed'\n",
    "    ] + [\n",
    "        f'{circRNA_output}/{category}/{tool}_repeat_elements_{basename}.bed' for tool in circRNA_tools\n",
    "    ]\n",
    "\n",
    "    # Output CSV file (use a separate variable for the output file)\n",
    "    circRNA_csv = f'{circRNA_output}/repeat_elements_counts_{basename}.csv'\n",
    "\n",
    "    # Process the annotated BED files and create the CSV\n",
    "    process_repeat_elements(circRNA_annotated_files, circRNA_all, circRNA_csv)"
   ]
  },
  {
   "cell_type": "code",
   "execution_count": null,
   "metadata": {},
   "outputs": [],
   "source": [
    "circRNA_tp_file = f'{circRNA_output}/repeat_elements_counts_TP.csv'\n",
    "circRNA_fn_file = f'{circRNA_output}/repeat_elements_counts_FN.csv'\n",
    "circRNA_fp_file = f'{circRNA_output}/repeat_elements_counts_FP.csv'\n",
    "\n",
    "calculate_repeat_element_metrics(circRNA_tp_file, circRNA_fn_file, circRNA_fp_file, circRNA_output, circRNA_all)"
   ]
  },
  {
   "cell_type": "code",
   "execution_count": null,
   "metadata": {},
   "outputs": [],
   "source": [
    "# Loop through each stat, generate file path, and plot metrics\n",
    "for stat in stats:\n",
    "    stat_file = f'{circRNA_output}/repeat_elements_{stat}.csv'\n",
    "    plot_stats_repeat_elements(stat_file, stat, circRNA_output)"
   ]
  },
  {
   "cell_type": "markdown",
   "metadata": {},
   "source": [
    "## Genomic Elements"
   ]
  },
  {
   "cell_type": "code",
   "execution_count": null,
   "metadata": {},
   "outputs": [],
   "source": [
    "gene_file = \"/data/database/genomes/GRCh38/genomic_genes.gtf\"\n",
    "exon_file = \"/data/database/genomes/GRCh38/exon_genes.gtf\"\n",
    "other_file = \"/data/database/genomes/GRCh38/genomic_annotation.gtf\""
   ]
  },
  {
   "cell_type": "code",
   "execution_count": null,
   "metadata": {},
   "outputs": [],
   "source": [
    "# Define paths and parameters\n",
    "eccDNA_base = \"results/eccDNA/insilico/filter\"\n",
    "eccDNA_output = f'{eccDNA_base}/genomic_elements/'\n",
    "\n",
    "coverage = 'cov30'\n",
    "\n",
    "# Generate true positive, false negative, and false positive paths\n",
    "bed_files_true = [eccDNA_bed] + [f'{eccDNA_base}/truepositives/{tool}/{coverage}_{tool}.bed' for tool in eccDNA_tools]\n",
    "bed_files_false_neg = [eccDNA_bed] + [f'{eccDNA_base}/falsenegatives/{tool}/{coverage}_{tool}.bed' for tool in eccDNA_tools]\n",
    "bed_files_false_pos = [eccDNA_bed] + [f'{eccDNA_base}/falsepositives/{tool}/{coverage}_{tool}.bed' for tool in eccDNA_tools]\n",
    "\n",
    "# Annotate BED files for true positives, false negatives, and false positives\n",
    "annotate_bed_files_genomic_elements(bed_files_true, eccDNA_output, eccDNA_tools, true_or_false='truepositives')\n",
    "annotate_bed_files_genomic_elements(bed_files_false_neg, eccDNA_output, eccDNA_tools, true_or_false='falsenegatives')\n",
    "annotate_bed_files_genomic_elements(bed_files_false_pos, eccDNA_output, eccDNA_tools, true_or_false='falsepositives')"
   ]
  },
  {
   "cell_type": "code",
   "execution_count": null,
   "metadata": {},
   "outputs": [],
   "source": [
    "output_dir = eccDNA_output + 'eccDNA_genomic_elements.bed'\n",
    "annotate_genomic_elements(eccDNA_bed, output_dir, gene_file, exon_file, other_file)"
   ]
  },
  {
   "cell_type": "code",
   "execution_count": null,
   "metadata": {},
   "outputs": [],
   "source": [
    "\n",
    "for category in categories:\n",
    "    if category == 'truepositives':\n",
    "        basename = 'TP'\n",
    "    elif category == 'falsenegatives':\n",
    "        basename = 'FN'\n",
    "    elif category == 'falsepositives':\n",
    "        basename = 'FP'\n",
    "        \n",
    "    eccDNA_annotated_files = [\n",
    "        f'{eccDNA_output}/{category}/eccDNA_genomic_elements_{basename}.bed'\n",
    "    ] + [\n",
    "        f'{eccDNA_output}/{category}/{tool}_genomic_elements_{basename}.bed' for tool in eccDNA_tools\n",
    "    ]\n",
    "\n",
    "    eccDNA_csv = f'{eccDNA_output}/genomic_elements_counts_{basename}.csv'\n",
    "\n",
    "    # Fix the argument order\n",
    "    process_genomic_elements(eccDNA_annotated_files, eccDNA_csv, eccDNA_all)\n"
   ]
  },
  {
   "cell_type": "code",
   "execution_count": null,
   "metadata": {},
   "outputs": [],
   "source": [
    "eccDNA_tp_file = f'{eccDNA_output}/genomic_elements_counts_TP.csv'\n",
    "eccDNA_fn_file = f'{eccDNA_output}/genomic_elements_counts_FN.csv'\n",
    "eccDNA_fp_file = f'{eccDNA_output}/genomic_elements_counts_FP.csv'\n",
    "\n",
    "calculate_genomic_element_metrics(eccDNA_tp_file, eccDNA_fn_file, eccDNA_fp_file, eccDNA_output, eccDNA_tools)"
   ]
  },
  {
   "cell_type": "code",
   "execution_count": null,
   "metadata": {},
   "outputs": [],
   "source": [
    "# Loop through each stat, generate file path, and plot metrics\n",
    "for stat in stats:\n",
    "    stat_file = f'{eccDNA_output}/genomic_elements_{stat}.csv'\n",
    "    plot_stats_genomic_elements(stat_file, stat, eccDNA_output)"
   ]
  },
  {
   "cell_type": "code",
   "execution_count": null,
   "metadata": {},
   "outputs": [],
   "source": [
    "# Define paths and parameters\n",
    "circRNA_base = \"results/circRNA/insilico/filter\"\n",
    "circRNA_output = f'{circRNA_base}/genomic_elements/'\n",
    "\n",
    "# Generate true positive, false negative, and false positive paths\n",
    "bed_files_true = [circRNA_bed] + [f'{circRNA_base}/truepositives/{tool}/{coverage}_{tool}.bed' for tool in circRNA_tools]\n",
    "bed_files_false_neg = [circRNA_bed] + [f'{circRNA_base}/falsenegatives/{tool}/{coverage}_{tool}.bed' for tool in circRNA_tools]\n",
    "bed_files_false_pos = [circRNA_bed] + [f'{circRNA_base}/falsepositives/{tool}/{coverage}_{tool}.bed' for tool in circRNA_tools]\n",
    "\n",
    "# Annotate BED files for true positives, false negatives, and false positives\n",
    "annotate_bed_files_genomic_elements(bed_files_true, circRNA_output, circRNA_tools, true_or_false='truepositives')\n",
    "annotate_bed_files_genomic_elements(bed_files_false_neg, circRNA_output, circRNA_tools, true_or_false='falsenegatives')\n",
    "annotate_bed_files_genomic_elements(bed_files_false_pos, circRNA_output, circRNA_tools, true_or_false='falsepositives')"
   ]
  },
  {
   "cell_type": "code",
   "execution_count": null,
   "metadata": {},
   "outputs": [],
   "source": [
    "output_dir = circRNA_output + 'circRNA_genomic_elements.bed'\n",
    "annotate_genomic_elements(circRNA_bed, output_dir, gene_file, exon_file, other_file)"
   ]
  },
  {
   "cell_type": "code",
   "execution_count": null,
   "metadata": {},
   "outputs": [],
   "source": [
    "for category in categories:\n",
    "    if category == 'truepositives':\n",
    "        basename = 'TP'\n",
    "    elif category == 'falsenegatives':\n",
    "        basename = 'FN'\n",
    "    elif category == 'falsepositives':\n",
    "        basename = 'FP'\n",
    "        \n",
    "    circRNA_annotated_files = [\n",
    "        f'{circRNA_output}/{category}/circRNA_genomic_elements_{basename}.bed'\n",
    "    ] + [\n",
    "        f'{circRNA_output}/{category}/{tool}_genomic_elements_{basename}.bed' for tool in circRNA_tools\n",
    "    ]\n",
    "\n",
    "    circRNA_csv = f'{circRNA_output}/genomic_elements_counts_{basename}.csv'\n",
    "\n",
    "    # Fix the argument order\n",
    "    process_genomic_elements(circRNA_annotated_files, circRNA_csv, circRNA_all)"
   ]
  },
  {
   "cell_type": "code",
   "execution_count": null,
   "metadata": {},
   "outputs": [],
   "source": [
    "circRNA_tp_file = f'{circRNA_output}/genomic_elements_counts_TP.csv'\n",
    "circRNA_fn_file = f'{circRNA_output}/genomic_elements_counts_FN.csv'\n",
    "circRNA_fp_file = f'{circRNA_output}/genomic_elements_counts_FP.csv'\n",
    "\n",
    "calculate_genomic_element_metrics(circRNA_tp_file, circRNA_fn_file, circRNA_fp_file, circRNA_output, circRNA_tools)"
   ]
  },
  {
   "cell_type": "code",
   "execution_count": null,
   "metadata": {},
   "outputs": [],
   "source": [
    "# Loop through each stat, generate file path, and plot metrics\n",
    "for stat in stats:\n",
    "    stat_file = f'{circRNA_output}/genomic_elements_{stat}.csv'\n",
    "    plot_stats_genomic_elements(stat_file, stat, circRNA_output)"
   ]
  },
  {
   "cell_type": "markdown",
   "metadata": {},
   "source": [
    "## Combination analysis"
   ]
  },
  {
   "cell_type": "code",
   "execution_count": null,
   "metadata": {},
   "outputs": [],
   "source": [
    "for filtering in filtering_methods:\n",
    "    process_eccDNA_filtering(filtering, eccDNA_bed, eccDNA_tools)"
   ]
  },
  {
   "cell_type": "code",
   "execution_count": null,
   "metadata": {},
   "outputs": [],
   "source": [
    "for filtering in filtering_methods:\n",
    "    process_circRNA_filtering(filtering, circRNA_bed, circRNA_tools)"
   ]
  },
  {
   "cell_type": "code",
   "execution_count": null,
   "metadata": {},
   "outputs": [],
   "source": [
    "eccDNA_dir = \"results/eccDNA/insilico\"\n",
    "plot_combinations(eccDNA_dir)"
   ]
  },
  {
   "cell_type": "code",
   "execution_count": null,
   "metadata": {},
   "outputs": [],
   "source": [
    "circRNA_dir = \"results/circRNA/insilico\"\n",
    "plot_combinations(circRNA_dir)"
   ]
  },
  {
   "cell_type": "code",
   "execution_count": null,
   "metadata": {},
   "outputs": [],
   "source": [
    "compare_combinations(eccDNA_dir)"
   ]
  },
  {
   "cell_type": "code",
   "execution_count": null,
   "metadata": {},
   "outputs": [],
   "source": [
    "compare_combinations(circRNA_dir)"
   ]
  },
  {
   "cell_type": "markdown",
   "metadata": {},
   "source": [
    "### CJ validation"
   ]
  },
  {
   "cell_type": "code",
   "execution_count": null,
   "metadata": {},
   "outputs": [],
   "source": [
    "eccDNA_matrix = 'results/eccDNA/insilico/filter/truepositives/truepositives_matrix.csv'\n",
    "matrix_fp(eccDNA_bed, eccDNA_tools, eccDNA_matrix, 'eccDNA')"
   ]
  },
  {
   "cell_type": "code",
   "execution_count": null,
   "metadata": {},
   "outputs": [],
   "source": [
    "eccDNA_bam = 'output/eccDNA/insilico/bam/sorted_unknown_DNA_cov30.bam'\n",
    "eccDNA_reads = 'results/eccDNA/insilico/filter/truepositives/truepositives_reads.csv'\n",
    "process_circle_matrix(eccDNA_matrix, eccDNA_bam, eccDNA_reads, N_offset=20)"
   ]
  },
  {
   "cell_type": "code",
   "execution_count": null,
   "metadata": {},
   "outputs": [],
   "source": [
    "eccDNA_output = 'results/eccDNA/insilico/filter/truepositives/'\n",
    "filtering = [\"Simulated\", \"unfilter\" ,\"filter-split\", \"filter-duplicates\", \"filter\"]\n",
    "circle_diff(eccDNA_matrix, eccDNA_reads, filtering, eccDNA_output, group='truepositives')"
   ]
  },
  {
   "cell_type": "code",
   "execution_count": null,
   "metadata": {},
   "outputs": [],
   "source": [
    "eccDNA_matrix = 'results/eccDNA/insilico/filter/falsepositives/falsepositives_matrix.csv'\n",
    "create_circle_presence_matrix(eccDNA_bed, eccDNA_tools, eccDNA_matrix, circular_type='eccDNA')"
   ]
  },
  {
   "cell_type": "code",
   "execution_count": null,
   "metadata": {},
   "outputs": [],
   "source": [
    "eccDNA_bam = 'output/eccDNA/insilico/bam/sorted_unknown_DNA_cov30.bam'\n",
    "eccDNA_reads = 'results/eccDNA/insilico/filter/falsepositives/falsepositives_reads.csv'\n",
    "process_circle_matrix(eccDNA_matrix, eccDNA_bam, eccDNA_reads, N_offset=20)"
   ]
  },
  {
   "cell_type": "code",
   "execution_count": null,
   "metadata": {},
   "outputs": [],
   "source": [
    "eccDNA_output = 'results/eccDNA/insilico/filter/falsepositives/'\n",
    "filtering = [\"unfilter\" ,\"filter-split\", \"filter-duplicates\", \"filter\"]\n",
    "circle_diff(eccDNA_matrix, eccDNA_reads, filtering, eccDNA_output, group='falsepositives')"
   ]
  },
  {
   "cell_type": "code",
   "execution_count": null,
   "metadata": {},
   "outputs": [],
   "source": [
    "circRNA_matrix = 'results/circRNA/insilico/filter/truepositives/truepositives_matrix.csv'\n",
    "matrix_fp(circRNA_bed, circRNA_tools, circRNA_matrix, 'circRNA')"
   ]
  },
  {
   "cell_type": "code",
   "execution_count": null,
   "metadata": {},
   "outputs": [],
   "source": [
    "circRNA_bam = 'output/circRNA/insilico/bam/circRNA_cov30.sorted.bam'\n",
    "circRNA_reads = 'results/circRNA/insilico/filter/truepositives/truepositives_reads.csv'\n",
    "process_circle_matrix(circRNA_matrix, circRNA_bam, circRNA_reads, use_chr_prefix=True)"
   ]
  },
  {
   "cell_type": "code",
   "execution_count": null,
   "metadata": {},
   "outputs": [],
   "source": [
    "circRNA_output = 'results/circRNA/insilico/filter/truepositives/'\n",
    "filtering = [\"Simulated\", \"unfilter\" ,\"filter-split\", \"filter-duplicates\", \"filter\"]\n",
    "circle_diff(circRNA_matrix, circRNA_reads, filtering, circRNA_output, group='truepositives')"
   ]
  },
  {
   "cell_type": "code",
   "execution_count": null,
   "metadata": {},
   "outputs": [],
   "source": [
    "circRNA_matrix = 'results/circRNA/insilico/filter/falsepositives/falsepositives_matrix.csv'\n",
    "create_circle_presence_matrix(circRNA_bed, circRNA_tools, circRNA_matrix, circular_type='circRNA')"
   ]
  },
  {
   "cell_type": "code",
   "execution_count": null,
   "metadata": {},
   "outputs": [],
   "source": [
    "circRNA_bam = 'output/circRNA/insilico/bam/circRNA_cov30.sorted.bam'\n",
    "circRNA_reads = 'results/circRNA/insilico/filter/falsepositives/falsepositives_reads.csv'\n",
    "process_circle_matrix(circRNA_matrix, circRNA_bam, circRNA_reads, use_chr_prefix=True)"
   ]
  },
  {
   "cell_type": "code",
   "execution_count": null,
   "metadata": {},
   "outputs": [],
   "source": [
    "circRNA_output = 'results/circRNA/insilico/filter/falsepositives/'\n",
    "filtering = [\"unfilter\" ,\"filter-split\", \"filter-duplicates\", \"filter\"]\n",
    "circle_diff(circRNA_matrix, circRNA_reads, filtering, circRNA_output, group='falsepositives')"
   ]
  },
  {
   "cell_type": "markdown",
   "metadata": {},
   "source": [
    "# 2. Real"
   ]
  },
  {
   "cell_type": "markdown",
   "metadata": {},
   "source": [
    "## Metrics"
   ]
  },
  {
   "cell_type": "code",
   "execution_count": null,
   "metadata": {},
   "outputs": [],
   "source": [
    "sample = \"ATAC-seq\"\n",
    "for filtering in filtering_methods:\n",
    "    eccDNA_dir = f\"data/real/eccDNA/{filtering}\"\n",
    "    eccDNA_output = f\"results/eccDNA/real/{filtering}/{sample}\"\n",
    "    matrix_real(eccDNA_dir, eccDNA_tools, sample, eccDNA_output)"
   ]
  },
  {
   "cell_type": "code",
   "execution_count": null,
   "metadata": {},
   "outputs": [],
   "source": [
    "sample = \"Circle-Seq\"\n",
    "for filtering in filtering_methods:\n",
    "    eccDNA_dir = f\"data/real/eccDNA/{filtering}\"\n",
    "    eccDNA_output = f\"results/eccDNA/real/{filtering}/{sample}\"\n",
    "    matrix_real(eccDNA_dir, eccDNA_tools, sample, eccDNA_output)\n"
   ]
  },
  {
   "cell_type": "code",
   "execution_count": null,
   "metadata": {},
   "outputs": [],
   "source": [
    "sample = \"CNT\"\n",
    "for filtering in filtering_methods:\n",
    "    circRNA_dir = f\"data/real/circRNA/{filtering}\"\n",
    "    circRNA_output = f\"results/circRNA/real/{filtering}/{sample}\"\n",
    "    matrix_real(circRNA_dir, circRNA_tools, sample, circRNA_output)"
   ]
  },
  {
   "cell_type": "code",
   "execution_count": null,
   "metadata": {},
   "outputs": [],
   "source": [
    "sample = \"RNASE\"\n",
    "for filtering in filtering_methods:\n",
    "    circRNA_dir = f\"data/real/circRNA/{filtering}\"\n",
    "    circRNA_output = f\"results/circRNA/real/{filtering}/{sample}\"\n",
    "    matrix_real(circRNA_dir, circRNA_tools, sample, circRNA_output)"
   ]
  },
  {
   "cell_type": "code",
   "execution_count": null,
   "metadata": {},
   "outputs": [],
   "source": [
    "data = 'Circle-Seq'\n",
    "for filtering in filtering_methods:\n",
    "    matrix_dir = f'results/eccDNA/real/{filtering}/{data}/matrix.csv'\n",
    "    output_dir = f'results/eccDNA/real/{filtering}/{data}/'\n",
    "    upset_plot(matrix_dir, output_dir, eccDNA_tools)"
   ]
  },
  {
   "cell_type": "code",
   "execution_count": null,
   "metadata": {},
   "outputs": [],
   "source": [
    "data = 'ATAC-seq'\n",
    "for filtering in filtering_methods:\n",
    "    matrix_dir = f'results/eccDNA/real/{filtering}/{data}/matrix.csv'\n",
    "    output_dir = f'results/eccDNA/real/{filtering}/{data}/'\n",
    "    upset_plot(matrix_dir, output_dir, eccDNA_tools)"
   ]
  },
  {
   "cell_type": "code",
   "execution_count": null,
   "metadata": {},
   "outputs": [],
   "source": [
    "data = 'CNT'\n",
    "for filtering in filtering_methods:\n",
    "    matrix_dir = f'results/circRNA/real/{filtering}/{data}/matrix.csv'\n",
    "    output_dir = f'results/circRNA/real/{filtering}/{data}/'\n",
    "    upset_plot(matrix_dir, output_dir, circRNA_tools)"
   ]
  },
  {
   "cell_type": "code",
   "execution_count": null,
   "metadata": {},
   "outputs": [],
   "source": [
    "data = 'RNASE'\n",
    "for filtering in filtering_methods:\n",
    "    matrix_dir = f'results/circRNA/real/{filtering}/{data}/matrix.csv'\n",
    "    output_dir = f'results/circRNA/real/{filtering}/{data}/'\n",
    "    upset_plot(matrix_dir, output_dir, circRNA_tools)"
   ]
  },
  {
   "cell_type": "code",
   "execution_count": null,
   "metadata": {},
   "outputs": [],
   "source": [
    "samples = ['Circle-Seq', \"ATAC-seq\"]\n",
    "eccDNA_base = \"data/real/eccDNA\"\n",
    "\n",
    "for sample in samples:\n",
    "    data = []\n",
    "    for tool in eccDNA_tools:\n",
    "        row_counts = {\"Tool\": tool}\n",
    "        for filtering in filtering_methods:\n",
    "            bed_file = os.path.join(eccDNA_base, filtering, tool, f\"{sample}.{tool}.bed\")\n",
    "            if os.path.exists(bed_file):\n",
    "                with open(bed_file, \"r\") as f:\n",
    "                    row_count = sum(1 for line in f)\n",
    "            else:\n",
    "                row_count = 0\n",
    "            row_counts[filtering.capitalize()] = row_count\n",
    "        data.append(row_counts)\n",
    "\n",
    "    df = pd.DataFrame(data)\n",
    "    df.to_csv(f\"results/eccDNA/real/{sample}_counts.csv\", index=False)"
   ]
  },
  {
   "cell_type": "code",
   "execution_count": null,
   "metadata": {},
   "outputs": [],
   "source": [
    "samples = ['CNT', \"RNASE\"]\n",
    "circRNA_base = \"data/real/circRNA\"\n",
    "\n",
    "for sample in samples:\n",
    "    data = []\n",
    "    for tool in circRNA_tools:\n",
    "        row_counts = {\"Tool\": tool}\n",
    "        for filtering in filtering_methods:\n",
    "            bed_file = os.path.join(circRNA_base, filtering, tool, f\"{sample}.{tool}.bed\")\n",
    "            if os.path.exists(bed_file):\n",
    "                with open(bed_file, \"r\") as f:\n",
    "                    row_count = sum(1 for line in f)\n",
    "            else:\n",
    "                row_count = 0\n",
    "            row_counts[filtering.capitalize()] = row_count\n",
    "        data.append(row_counts)\n",
    "\n",
    "    df = pd.DataFrame(data)\n",
    "    df.to_csv(f\"results/circRNA/real/{sample}_counts.csv\", index=False)"
   ]
  },
  {
   "cell_type": "code",
   "execution_count": null,
   "metadata": {},
   "outputs": [],
   "source": [
    "for filtering in filtering_methods:\n",
    "    process_circle_matrix(\n",
    "        f\"results/eccDNA/real/{filtering}/Circle-Seq/matrix.csv\",\n",
    "        f\"output/eccDNA/real/Circle-Seq/bwa/CS_sorted_unknown_circle.bam\",\n",
    "        f\"results/eccDNA/real/{filtering}/Circle-Seq/matrix_with_reads.csv\",\n",
    "        N_offset=20, \n",
    "        verbose=False\n",
    "    )"
   ]
  },
  {
   "cell_type": "code",
   "execution_count": null,
   "metadata": {},
   "outputs": [],
   "source": [
    "for filtering in filtering_methods:\n",
    "    process_circle_matrix(\n",
    "        f\"results/eccDNA/real/{filtering}/ATAC-seq/matrix.csv\",\n",
    "        f\"output/eccDNA/real/ATAC-seq/bwa/AS_sorted_unknown_circle.bam\",\n",
    "        f\"results/eccDNA/real/{filtering}/ATAC-seq/matrix_with_reads.csv\",\n",
    "        use_chr_prefix=True,\n",
    "        N_offset=20, \n",
    "        verbose=False\n",
    "    )"
   ]
  },
  {
   "cell_type": "code",
   "execution_count": null,
   "metadata": {},
   "outputs": [],
   "source": [
    "for filtering in filtering_methods:\n",
    "    process_circle_matrix(\n",
    "        f\"results/circRNA/real/{filtering}/CNT/matrix.csv\",\n",
    "        f\"output/circRNA/real/star/CNT.Aligned.sorted.out.bam\",\n",
    "        f\"results/circRNA/real/{filtering}/CNT/matrix_with_reads.csv\",\n",
    "        use_chr_prefix=True,\n",
    "        N_offset=20, \n",
    "        verbose=False\n",
    "    )"
   ]
  },
  {
   "cell_type": "code",
   "execution_count": null,
   "metadata": {},
   "outputs": [],
   "source": [
    "for filtering in filtering_methods:\n",
    "    process_circle_matrix(\n",
    "        f\"results/circRNA/real/{filtering}/RNASE/matrix.csv\",\n",
    "        f\"output/circRNA/real/star/RNASE.Aligned.sorted.out.bam\",\n",
    "        f\"results/circRNA/real/{filtering}/RNASE/matrix_with_reads.csv\",\n",
    "        use_chr_prefix=True,\n",
    "        N_offset=20, \n",
    "        verbose=False\n",
    "    )"
   ]
  },
  {
   "cell_type": "code",
   "execution_count": null,
   "metadata": {},
   "outputs": [],
   "source": [
    "eccDNA_matrix = \"results/eccDNA/real\"\n",
    "filtering_methods = [\"unfilter\", \"filter-split\", \"filter-duplicates\", \"filter\"]\n",
    "data = 'Circle-Seq'\n",
    "\n",
    "circle_diff_real(eccDNA_matrix, eccDNA_tools, filtering_methods, data)"
   ]
  },
  {
   "cell_type": "code",
   "execution_count": null,
   "metadata": {},
   "outputs": [],
   "source": [
    "data = 'ATAC-seq'\n",
    "eccDNA_matrix = \"results/eccDNA/real\"\n",
    "circle_diff_real(eccDNA_matrix, eccDNA_tools, filtering_methods, data)"
   ]
  },
  {
   "cell_type": "code",
   "execution_count": null,
   "metadata": {},
   "outputs": [],
   "source": [
    "matrix_dir = \"results/circRNA/real\"\n",
    "data = 'CNT'\n",
    "\n",
    "circle_diff_real(matrix_dir, circRNA_tools, filtering_methods, data)"
   ]
  },
  {
   "cell_type": "code",
   "execution_count": null,
   "metadata": {},
   "outputs": [],
   "source": [
    "data = 'RNASE'\n",
    "\n",
    "circle_diff_real(matrix_dir, circRNA_tools, filtering_methods, data)"
   ]
  },
  {
   "cell_type": "markdown",
   "metadata": {},
   "source": [
    "### Combining Methods"
   ]
  },
  {
   "cell_type": "code",
   "execution_count": null,
   "metadata": {},
   "outputs": [],
   "source": [
    "# List of directories\n",
    "eccDNA_directories = [\n",
    "    \"data/real/eccDNA/unfilter/CIRCexplorer2\",\n",
    "    \"data/real/eccDNA/unfilter/Circle_finder\",\n",
    "    \"data/real/eccDNA/unfilter/Circle-Map\",\n",
    "    \"data/real/eccDNA/unfilter/ecc_finder-bwa\",\n",
    "    \"data/real/eccDNA/unfilter/ecc_finder-minimap2\"\n",
    "]\n",
    "# Call the function to merge Circle-Seq files\n",
    "merge_files(eccDNA_directories, data='eccDNA', file_type=\"Circle-Seq\")\n",
    "merge_files(eccDNA_directories, data='eccDNA', file_type=\"ATAC-seq\")"
   ]
  },
  {
   "cell_type": "code",
   "execution_count": null,
   "metadata": {},
   "outputs": [],
   "source": [
    "# List of directories\n",
    "circRNA_directories = [\n",
    "    \"data/real/circRNA/unfilter/CIRCexplorer2\",\n",
    "    \"data/real/circRNA/unfilter/circRNA_finder\",\n",
    "    \"data/real/circRNA/unfilter/CIRIquant\",\n",
    "    \"data/real/circRNA/unfilter/find_circ\",\n",
    "    \"data/real/circRNA/unfilter/segemehl\"   \n",
    "]\n",
    "# Call the function to merge Circle-Seq files\n",
    "merge_files(circRNA_directories, data='circRNA', file_type=\"CNT\")\n",
    "# Call the function to merge Circle-Seq files\n",
    "merge_files(circRNA_directories, data='circRNA', file_type=\"RNASE\")"
   ]
  },
  {
   "cell_type": "code",
   "execution_count": null,
   "metadata": {},
   "outputs": [],
   "source": [
    "process_circle_matrix(\n",
    "        \"results/eccDNA/real/Circle-Seq/Circle-Seq.bed\",\n",
    "        \"output/eccDNA/real/Circle-Seq/bwa/CS_sorted_unknown_circle.bam\",\n",
    "        \"results/eccDNA/real/Circle-Seq/all_reads.csv\",\n",
    "        use_chr_prefix=False,\n",
    "        N_offset=20, \n",
    "        verbose=False\n",
    "    )"
   ]
  },
  {
   "cell_type": "code",
   "execution_count": null,
   "metadata": {},
   "outputs": [],
   "source": [
    "process_circle_matrix(\n",
    "        \"results/eccDNA/real/ATAC-seq/ATAC-seq.bed\",\n",
    "        \"output/eccDNA/real/ATAC-seq/bwa/AS_sorted_unknown_circle.bam\",\n",
    "        \"results/eccDNA/real/ATAC-seq/all_reads.csv\",\n",
    "        use_chr_prefix=True,\n",
    "        N_offset=20, \n",
    "        verbose=False\n",
    "    )"
   ]
  },
  {
   "cell_type": "code",
   "execution_count": null,
   "metadata": {},
   "outputs": [],
   "source": [
    "process_circle_matrix(\n",
    "    \"results/circRNA/real/CNT/CNT.bed\",\n",
    "    \"output/circRNA/real/star/CNT.Aligned.sorted.out.bam\",\n",
    "    \"results/circRNA/real/CNT/all_reads.csv\",\n",
    "    use_chr_prefix=True,\n",
    "    N_offset=20, \n",
    "    verbose=False\n",
    ")"
   ]
  },
  {
   "cell_type": "code",
   "execution_count": null,
   "metadata": {},
   "outputs": [],
   "source": [
    "process_circle_matrix(\n",
    "    \"results/circRNA/real/RNASE/RNASE.bed\",\n",
    "    \"output/circRNA/real/star/RNASE.Aligned.sorted.out.bam\",\n",
    "    \"results/circRNA/real/RNASE/all_reads.csv\",\n",
    "    use_chr_prefix=True,\n",
    "    N_offset=20, \n",
    "    verbose=False\n",
    ")"
   ]
  },
  {
   "cell_type": "code",
   "execution_count": null,
   "metadata": {},
   "outputs": [],
   "source": [
    "# Example usage\n",
    "ros_combinations_mapping = {\n",
    "    \"CE_CM_CF\": \"CE_CM_CE_CF_CM_CF\",\n",
    "    \"CE_CM_EB\": \"CE_CM_CE_EB_CM_EB\",\n",
    "    \"CE_CM_EM\": \"CE_CM_CE_EM_CM_EM\",\n",
    "    \"CE_CF_EB\": \"CE_CF_CE_EB_CF_EB\",\n",
    "    \"CE_CF_EM\": \"CE_CF_CE_EM_CF_EM\",\n",
    "    \"CE_EB_EM\": \"CE_EB_CE_EM_EB_EM\",\n",
    "    \"CM_CF_EB\": \"CM_CF_CM_EB_CF_EB\",\n",
    "    \"CM_CF_EM\": \"CM_CF_CM_EM_CF_EM\",\n",
    "    \"CM_EB_EM\": \"CM_EB_CM_EM_EB_EM\",\n",
    "    \"CF_EB_EM\": \"CF_EB_CF_EM_EB_EM\",\n",
    "    \"CE_CM_CF_EB\": \"CE_CM_CE_CF_CE_EB_CM_CF_CM_EM_CF_EB\",\n",
    "    \"CE_CM_CF_EM\": \"CE_CM_CE_CF_CE_EM_CM_CF_CM_EM_CF_EM\",\n",
    "    \"CE_CM_EB_EM\": \"CE_CM_CE_EB_CE_EM_CM_EB_CM_EM_EB_EM\",\n",
    "    \"CE_CF_EB_EM\": \"CE_CF_CE_EB_CE_EM_CF_EB_CF_EM_EB_EM\",\n",
    "    \"CM_CF_EB_EM\": \"CM_CF_CM_EB_CM_EM_CF_EB_CF_EM_EB_EM\",\n",
    "    \"CE_CM_CF_EB_EM\": \"CE_CM_CE_CF_CE_EB_CE_EM_CM_CF_CM_EB_CM_EM_CF_EB_CF_EM_EB_EM\"\n",
    "}\n",
    "\n",
    "# Tool name to abbreviation mapping\n",
    "eccDNA_tools_abbreviations = {\n",
    "    'CIRCexplorer2': 'CE',\n",
    "    'Circle-Map': 'CM',\n",
    "    'Circle_finder': 'CF',\n",
    "    'ecc_finder-bwa': 'EB',\n",
    "    'ecc_finder-minimap2': 'EM',\n",
    "    'segemehl': 'SE',\n",
    "}"
   ]
  },
  {
   "cell_type": "code",
   "execution_count": null,
   "metadata": {},
   "outputs": [],
   "source": [
    "for filter in filtering_methods:\n",
    "    matrix_path = f\"results/eccDNA/real/{filter}/Circle-Seq/matrix.csv\"  # Path to your input file\n",
    "    extra_matrix_path = f\"results/eccDNA/real/{filter}/Circle-Seq/matrix_with_reads.csv\"  # Path to your input file\n",
    "    output_base = f\"results/eccDNA/real/{filter}/Circle-Seq\"\n",
    "    analyze_and_save_circles(matrix_path, extra_matrix_path, ros_combinations_mapping, eccDNA_tools_abbreviations, output_base)"
   ]
  },
  {
   "cell_type": "code",
   "execution_count": null,
   "metadata": {},
   "outputs": [],
   "source": [
    "for filter in filtering_methods:\n",
    "    matrix_path = f\"results/eccDNA/real/{filter}/ATAC-seq/matrix.csv\"  # Path to your input file\n",
    "    extra_matrix_path = f\"results/eccDNA/real/{filter}/ATAC-seq/matrix_with_reads.csv\"  # Path to your input file\n",
    "    output_base = f\"results/eccDNA/real/{filter}/ATAC-seq\"\n",
    "    analyze_and_save_circles(matrix_path, extra_matrix_path, ros_combinations_mapping, eccDNA_tools_abbreviations, output_base)"
   ]
  },
  {
   "cell_type": "code",
   "execution_count": null,
   "metadata": {},
   "outputs": [],
   "source": [
    "# Combinaciones adaptadas para Rosette\n",
    "ros_combinations_mapping = {\n",
    "    \"CE_CF_CQ\": \"CE_CF_CE_CQ_CF_CQ\",\n",
    "    \"CE_CF_FC\": \"CE_CF_CE_FC_CF_FC\",\n",
    "    \"CE_CF_SE\": \"CE_CF_CE_SE_CF_SE\",\n",
    "    \"CE_CQ_FC\": \"CE_CQ_CE_FC_CQ_FC\",\n",
    "    \"CE_CQ_SE\": \"CE_CQ_CE_SE_CQ_SE\",\n",
    "    \"CE_FC_SE\": \"CE_FC_CE_SE_FC_SE\",\n",
    "    \"CF_CQ_FC\": \"CF_CQ_CF_FC_CQ_FC\",\n",
    "    \"CF_CQ_SE\": \"CF_CQ_CF_SE_CQ_SE\",\n",
    "    \"CF_FC_SE\": \"CF_FC_CF_SE_FC_SE\",\n",
    "    \"CQ_FC_SE\": \"CQ_FC_CQ_SE_FC_SE\",\n",
    "    \"CE_CF_CQ_FC\": \"CE_CF_CE_CQ_CE_FC_CF_CQ_CF_SE_CQ_FC\",\n",
    "    \"CE_CF_CQ_SE\": \"CE_CF_CE_CQ_CE_SE_CF_CQ_CF_SE_CQ_SE\",\n",
    "    \"CE_CF_FC_SE\": \"CE_CF_CE_FC_CE_SE_CF_FC_CF_SE_FC_SE\",\n",
    "    \"CE_CQ_FC_SE\": \"CE_CQ_CE_FC_CE_SE_CQ_FC_CQ_SE_FC_SE\",\n",
    "    \"CF_CQ_FC_SE\": \"CF_CQ_CF_FC_CF_SE_CQ_FC_CQ_SE_FC_SE\",\n",
    "    \"CE_CF_CQ_FC_SE\": \"CE_CF_CE_CQ_CE_FC_CE_SE_CF_CQ_CF_FC_CF_SE_CQ_FC_CQ_SE_FC_SE\"\n",
    "}\n",
    "# Tool name to abbreviation mapping\n",
    "circRNA_tools_abbreviations = {\n",
    "    'CIRCexplorer2': 'CE',\n",
    "    'circRNA_finder': 'CF',\n",
    "    'CIRIquant': 'CQ',\n",
    "    'find_circ': 'FC',\n",
    "    'segemehl': 'SE',\n",
    "} \n",
    "\n",
    "for filter in filtering_methods:\n",
    "    matrix_path = f\"results/circRNA/real/{filter}/CNT/matrix.csv\"  # Path to your input file\n",
    "    extra_matrix_path = f\"results/circRNA/real/{filter}/CNT/matrix_with_reads.csv\"  # Path to your input file\n",
    "    output_base = f\"results/circRNA/real/{filter}/CNT\"\n",
    "    analyze_and_save_circles(matrix_path, extra_matrix_path, ros_combinations_mapping, circRNA_tools_abbreviations, output_base)"
   ]
  },
  {
   "cell_type": "code",
   "execution_count": null,
   "metadata": {},
   "outputs": [],
   "source": [
    "for filter in filtering_methods:\n",
    "    matrix_path = f\"results/circRNA/real/{filter}/RNASE/matrix.csv\"  # Path to your input file\n",
    "    extra_matrix_path = f\"results/circRNA/real/{filter}/RNASE/matrix_with_reads.csv\"  # Path to your input file\n",
    "    output_base = f\"results/circRNA/real/{filter}/RNASE\"\n",
    "    analyze_and_save_circles(matrix_path, extra_matrix_path, ros_combinations_mapping, circRNA_tools_abbreviations, output_base)"
   ]
  },
  {
   "cell_type": "code",
   "execution_count": null,
   "metadata": {},
   "outputs": [],
   "source": [
    "# Define the file paths and filtering methods\n",
    "ros_combinations_mapping = {\n",
    "    \"CE_CM_CF\": \"CE_CM_CE_CF_CM_CF\",\n",
    "    \"CE_CM_EB\": \"CE_CM_CE_EB_CM_EB\",\n",
    "    \"CE_CM_EM\": \"CE_CM_CE_EM_CM_EM\",\n",
    "    \"CE_CF_EB\": \"CE_CF_CE_EB_CF_EB\",\n",
    "    \"CE_CF_EM\": \"CE_CF_CE_EM_CF_EM\",\n",
    "    \"CE_EB_EM\": \"CE_EB_CE_EM_EB_EM\",\n",
    "    \"CM_CF_EB\": \"CM_CF_CM_EB_CF_EB\",\n",
    "    \"CM_CF_EM\": \"CM_CF_CM_EM_CF_EM\",\n",
    "    \"CM_EB_EM\": \"CM_EB_CM_EM_EB_EM\",\n",
    "    \"CF_EB_EM\": \"CF_EB_CF_EM_EB_EM\",\n",
    "    \"CE_CM_CF_EB\": \"CE_CM_CE_CF_CE_EB_CM_CF_CM_EM_CF_EB\",\n",
    "    \"CE_CM_CF_EM\": \"CE_CM_CE_CF_CE_EM_CM_CF_CM_EM_CF_EM\",\n",
    "    \"CE_CM_EB_EM\": \"CE_CM_CE_EB_CE_EM_CM_EB_CM_EM_EB_EM\",\n",
    "    \"CE_CF_EB_EM\": \"CE_CF_CE_EB_CE_EM_CF_EB_CF_EM_EB_EM\",\n",
    "    \"CM_CF_EB_EM\": \"CM_CF_CM_EB_CM_EM_CF_EB_CF_EM_EB_EM\",\n",
    "    \"CE_CM_CF_EB_EM\": \"CE_CM_CE_CF_CE_EB_CE_EM_CM_CF_CM_EB_CM_EM_CF_EB_CF_EM_EB_EM\"\n",
    "}\n",
    "\n",
    "combining_method = ['rosette', 'union', 'intersect', 'double', 'unique']"
   ]
  },
  {
   "cell_type": "code",
   "execution_count": null,
   "metadata": {},
   "outputs": [],
   "source": [
    "# Call the function to plot the graph\n",
    "diff_cj_combinations('eccDNA', 'Circle-Seq', ros_combinations_mapping, filtering_methods, combining_method)"
   ]
  },
  {
   "cell_type": "code",
   "execution_count": null,
   "metadata": {},
   "outputs": [],
   "source": [
    "# Call the function to plot the graph\n",
    "diff_cj_combinations('eccDNA', 'ATAC-seq', ros_combinations_mapping, filtering_methods, combining_method)"
   ]
  },
  {
   "cell_type": "code",
   "execution_count": null,
   "metadata": {},
   "outputs": [],
   "source": [
    "ros_combinations_mapping = {\n",
    "    \"CE_CF_CQ\": \"CE_CF_CE_CQ_CF_CQ\",\n",
    "    \"CE_CF_FC\": \"CE_CF_CE_FC_CF_FC\",\n",
    "    \"CE_CF_SE\": \"CE_CF_CE_SE_CF_SE\",\n",
    "    \"CE_CQ_FC\": \"CE_CQ_CE_FC_CQ_FC\",\n",
    "    \"CE_CQ_SE\": \"CE_CQ_CE_SE_CQ_SE\",\n",
    "    \"CE_FC_SE\": \"CE_FC_CE_SE_FC_SE\",\n",
    "    \"CF_CQ_FC\": \"CF_CQ_CF_FC_CQ_FC\",\n",
    "    \"CF_CQ_SE\": \"CF_CQ_CF_SE_CQ_SE\",\n",
    "    \"CF_FC_SE\": \"CF_FC_CF_SE_FC_SE\",\n",
    "    \"CQ_FC_SE\": \"CQ_FC_CQ_SE_FC_SE\",\n",
    "    \"CE_CF_CQ_FC\": \"CE_CF_CE_CQ_CE_FC_CF_CQ_CF_SE_CQ_FC\",\n",
    "    \"CE_CF_CQ_SE\": \"CE_CF_CE_CQ_CE_SE_CF_CQ_CF_SE_CQ_SE\",\n",
    "    \"CE_CF_FC_SE\": \"CE_CF_CE_FC_CE_SE_CF_FC_CF_SE_FC_SE\",\n",
    "    \"CE_CQ_FC_SE\": \"CE_CQ_CE_FC_CE_SE_CQ_FC_CQ_SE_FC_SE\",\n",
    "    \"CF_CQ_FC_SE\": \"CF_CQ_CF_FC_CF_SE_CQ_FC_CQ_SE_FC_SE\",\n",
    "    \"CE_CF_CQ_FC_SE\": \"CE_CF_CE_CQ_CE_FC_CE_SE_CF_CQ_CF_FC_CF_SE_CQ_FC_CQ_SE_FC_SE\"\n",
    "}\n",
    "diff_cj_combinations('circRNA', 'CNT', ros_combinations_mapping, filtering_methods, combining_method)"
   ]
  },
  {
   "cell_type": "code",
   "execution_count": null,
   "metadata": {},
   "outputs": [],
   "source": [
    "diff_cj_combinations('circRNA', 'RNASE', ros_combinations_mapping, filtering_methods, combining_method)"
   ]
  },
  {
   "cell_type": "code",
   "execution_count": null,
   "metadata": {},
   "outputs": [],
   "source": [
    "import matplotlib.gridspec as gridspec\n",
    "def plot_diffCJ_scatterplot(list_dfs):\n",
    "    \"\"\"\n",
    "    Creates a multi-panel scatterplot showing Mean ΔCJ (≥) vs number of tools (n_tools) \n",
    "    across combinations and methods, using filtering strategies as hue.\n",
    "    \n",
    "    Parameters:\n",
    "        list_dfs (list of pd.DataFrame): List of DataFrames, one per method.\n",
    "    \"\"\"\n",
    "\n",
    "    # Add 'n_tools' column\n",
    "    for df in list_dfs:\n",
    "        if 'Key' in df.columns:\n",
    "            df['n_tools'] = df['Key'].apply(lambda x: len(str(x).split('_')))\n",
    "\n",
    "    list_methods = [\"Circle-Seq\", \"ATAC-seq\", \"CNT\", \"RNASE\"]\n",
    "    combinations = ['intersect', 'rosette', 'double', 'union', 'unique']\n",
    "    n_rows = len(combinations)\n",
    "    n_cols = len(list_methods)\n",
    "\n",
    "    palette = {\n",
    "        'unfilter': '#d46014',\n",
    "        'filter-split': '#ddcd3d',\n",
    "        'filter-duplicates': '#064b76ff',\n",
    "        'filter': '#63bdf6ff'\n",
    "    }\n",
    "\n",
    "    fig = plt.figure(figsize=(20, 8))\n",
    "    gs = gridspec.GridSpec(n_rows, n_cols, figure=fig, wspace=0.2, hspace=0.15)\n",
    "\n",
    "    all_handles = []\n",
    "    all_labels = []\n",
    "\n",
    "    for c, method in enumerate(list_methods):\n",
    "        df = list_dfs[c]\n",
    "\n",
    "        for r, combination in enumerate(combinations):\n",
    "            ax = fig.add_subplot(gs[r, c])\n",
    "            subset = df[df['Combination'] == combination]\n",
    "\n",
    "            if not all(col in subset.columns for col in ['Mean ΔCJ (≥)', 'n_tools', 'Filtering']):\n",
    "                ax.text(0.5, 0.5, \"Missing columns\", ha='center', va='center', fontsize=12, color='red')\n",
    "                ax.set_axis_off()\n",
    "                continue\n",
    "\n",
    "            sns.scatterplot(\n",
    "                data=subset,\n",
    "                x='Mean ΔCJ (≥)',\n",
    "                y='n_tools',\n",
    "                hue='Filtering',\n",
    "                palette=palette,\n",
    "                s=50,\n",
    "                ax=ax\n",
    "            )\n",
    "\n",
    "            if r == 0:\n",
    "                ax.set_title(method, fontsize=16)\n",
    "\n",
    "            if c == 0:\n",
    "                ax.set_ylabel(combination, fontsize=16, rotation=0, ha='right', va='center')\n",
    "            else:\n",
    "                ax.set_ylabel('')\n",
    "\n",
    "            ax.set_yticks([3, 4, 5])\n",
    "            ax.set_ylim([2.5, 5.5])\n",
    "            ax.tick_params(axis='y', labelsize=16)\n",
    "\n",
    "            if r == 4:\n",
    "                ax.set_xlabel('Mean ΔCJ (≥)', fontsize=16)\n",
    "                ax.tick_params(axis='x', labelsize=16)\n",
    "\n",
    "                if not subset.empty:\n",
    "                    x_min = subset['Mean ΔCJ (≥)'].min()\n",
    "                    x_max = subset['Mean ΔCJ (≥)'].max()\n",
    "                    xticks = np.linspace(x_min, x_max, num=4)\n",
    "                    ax.set_xticks(xticks)\n",
    "                    ax.set_xticklabels([f\"{x:.2f}\" for x in xticks])\n",
    "            else:\n",
    "                ax.set_xticks([])\n",
    "                ax.set_xticklabels([])\n",
    "                ax.set_xlabel('')\n",
    "\n",
    "            ax.get_legend().remove()\n",
    "\n",
    "            if not all_handles:\n",
    "                all_handles, all_labels = ax.get_legend_handles_labels()\n",
    "\n",
    "    fig.legend(all_handles, all_labels, loc='upper center', bbox_to_anchor=(0.5, -0.05), ncol=4, frameon=False, fontsize=16)\n",
    "    plt.tight_layout(rect=[0, 0, 1, 0.95])\n",
    "    plt.savefig(\"results/eccDNA/real/diffCJ_scatterplot.png\", dpi=300, bbox_inches=\"tight\")\n",
    "    plt.show()"
   ]
  },
  {
   "cell_type": "code",
   "execution_count": null,
   "metadata": {},
   "outputs": [],
   "source": [
    "list_dfs = [\n",
    "    pd.read_csv(\"results/eccDNA/real/Circle-Seq/diffCJ_stats.csv\"),\n",
    "    pd.read_csv(\"results/eccDNA/real/ATAC-seq/diffCJ_stats.csv\"),\n",
    "    pd.read_csv(\"results/circRNA/real/CNT/diffCJ_stats.csv\"),\n",
    "    pd.read_csv(\"results/circRNA/real/RNASE/diffCJ_stats.csv\")\n",
    "]\n",
    "\n",
    "plot_diffCJ_scatterplot(list_dfs)"
   ]
  },
  {
   "cell_type": "code",
   "execution_count": null,
   "metadata": {},
   "outputs": [],
   "source": [
    "paths = [\n",
    "    (\"/data/benchmarking/results_good/eccDNA/real/Circle-Seq/diffCJ_stats.csv\", \"Circle-Seq\"),\n",
    "    (\"/data/benchmarking/results_good/eccDNA/real/ATAC-seq/diffCJ_stats.csv\", \"ATAC-seq\"),\n",
    "    (\"/data/benchmarking/results_good/circRNA/real/CNT/diffCJ_stats.csv\", \"CNT\"),\n",
    "    (\"/data/benchmarking/results_good/circRNA/real/RNASE/diffCJ_stats.csv\", \"RNASE\"),\n",
    "]\n",
    "\n",
    "df_all_ratios = process_and_plot_ratios(paths)"
   ]
  }
 ],
 "metadata": {
  "kernelspec": {
   "display_name": "base",
   "language": "python",
   "name": "python3"
  },
  "language_info": {
   "codemirror_mode": {
    "name": "ipython",
    "version": 3
   },
   "file_extension": ".py",
   "mimetype": "text/x-python",
   "name": "python",
   "nbconvert_exporter": "python",
   "pygments_lexer": "ipython3",
   "version": "3.11.0"
  }
 },
 "nbformat": 4,
 "nbformat_minor": 2
}
